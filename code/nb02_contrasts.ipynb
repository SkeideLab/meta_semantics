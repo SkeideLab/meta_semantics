{
 "cells": [
  {
   "cell_type": "markdown",
   "metadata": {
    "collapsed": true,
    "pycharm": {
     "name": "#%% md\n"
    }
   },
   "source": [
    "# Notebook #02: ALE contrast analyses"
   ]
  },
  {
   "cell_type": "code",
   "execution_count": 4,
   "outputs": [
    {
     "name": "stdout",
     "output_type": "stream",
     "text": [
      "Performing ALE contrast analysis for \"../results/ale/knowledge_p001_C01_1k_ALE.nii\" and \"../results/ale/nknowledge_p001_C01_1k_ALE.nii\" with 1000000 permutations\n",
      "${ALE} org.brainmap.meta.getALE2Contrast ../results/ale/knowledge_p001_C01_1k_ALE.nii ../results/ale/nknowledge_p001_C01_1k_ALE.nii ../results/ale/all_p001_C01_1k_ALE.nii -mask=MNI152_wb.nii -p=0.01 -perm=1000000 -nonadd\n"
     ]
    }
   ],
   "source": [
    "import os\n",
    "\n",
    "# Define function to perform a contrast analyses between to ALEs\n",
    "def run_contrasts(ale_1, ale_2, ale_pooled, gingerale, p_voxel, min_cluster, perm):\n",
    "    # Store location of GingerALE as a system variable\n",
    "    from os import environ, system, path\n",
    "    environ['ALE'] = 'java -cp ' + gingerale\n",
    "    # Run the ALE contrast analysis from the command line\n",
    "    print('Performing ALE contrast analysis for \"' + ale_1 + '\" and \"' + ale_2 + \\\n",
    "          '\" with ' + str(perm) + ' permutations')\n",
    "    cmd_contrast = '${ALE} org.brainmap.meta.getALE2Contrast ' + ale_1 + ' ' + ale_2 + ' ' + \\\n",
    "        ale_pooled + ' -mask=MNI152_wb.nii -p=' + str(p_voxel) + ' -perm=' + str(perm) + ' -nonadd'\n",
    "    print(cmd_contrast)\n",
    "\n",
    "\n",
    "\n",
    "# Define dictionary for which contrast analyses to run\n",
    "contrasts = dict({\n",
    "    '../results/ale/knowledge_p001_C01_1k_ALE.nii': '../results/ale/nknowledge_p001_C01_1k_ALE.nii'\n",
    "})\n",
    "\n",
    "# Use the function to perform the contrast analyses\n",
    "for key, value in zip(contrasts.keys(), contrasts.values()):\n",
    "    run_contrasts(ale_1=key, ale_2=value, ale_pooled='../results/ale/all_p001_C01_1k_ALE.nii',\n",
    "                  gingerale='../software/ale/GingerALE.jar',\n",
    "                  p_voxel=0.01, min_cluster=200,perm=1000000)\n"
   ],
   "metadata": {
    "collapsed": false,
    "pycharm": {
     "name": "#%%\n"
    }
   }
  }
 ],
 "metadata": {
  "kernelspec": {
   "name": "pycharm-2e5bb5f0",
   "language": "python",
   "display_name": "PyCharm (mask_children)"
  },
  "language_info": {
   "codemirror_mode": {
    "name": "ipython",
    "version": 2
   },
   "file_extension": ".py",
   "mimetype": "text/x-python",
   "name": "python",
   "nbconvert_exporter": "python",
   "pygments_lexer": "ipython2",
   "version": "2.7.6"
  }
 },
 "nbformat": 4,
 "nbformat_minor": 0
}