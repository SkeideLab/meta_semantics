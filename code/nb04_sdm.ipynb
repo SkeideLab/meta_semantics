{
 "cells": [
  {
   "cell_type": "code",
   "execution_count": null,
   "metadata": {
    "collapsed": true
   },
   "outputs": [],
   "source": [
    "# Load modules\n",
    "from os import path, makedirs\n",
    "import pandas as pd\n",
    "import numpy as np\n",
    "from scipy import stats\n",
    "from subprocess import run\n",
    "from multiprocessing import cpu_count"
   ]
  },
  {
   "cell_type": "code",
   "execution_count": null,
   "metadata": {},
   "outputs": [],
   "source": [
    "# Unpack SDM software\n",
    "if not path.isfile('../results/sdm/sdm'):\n",
    "    from glob import glob\n",
    "    import tarfile\n",
    "    from shutil import move\n",
    "    fname_tar = glob('../software/SdmPsiGui-*')[0]\n",
    "    tar_sdm = tarfile.open(fname_tar)\n",
    "    tar_sdm.extractall('../results/')\n",
    "    tar_sdm.close()\n",
    "    move('../results/SdmPsiGui-linux64-v6.21/', '../results/sdm/')"
   ]
  },
  {
   "cell_type": "code",
   "execution_count": null,
   "metadata": {},
   "outputs": [],
   "source": [
    "# Read table of experiments from ALE analysis\n",
    "exps = pd.read_pickle('../results/exps.pickle')"
   ]
  },
  {
   "cell_type": "code",
   "execution_count": null,
   "metadata": {},
   "outputs": [],
   "source": [
    "# Extract test statistics of individal foci\n",
    "exps['tstats'] = [\n",
    "    # If there are t-values, we can use them directly\n",
    "    foci[:, 3] if foci_stat == 'tstat'\n",
    "    # If there are z-values, we convert them to t-values\n",
    "    else (stats.t.ppf(stats.norm.cdf(foci[:, 3]), df=n - 1) if foci_stat == 'zstat'\n",
    "          # If neither of these, write NaNs\n",
    "          else np.full(foci.shape[0], np.nan))\n",
    "    for foci, foci_stat, n\n",
    "    in zip(exps['foci'], exps['foci_stat'], exps['n'])\n",
    "]\n",
    "\n",
    "# Replace infinite t-values with the maximum t-value of the experiment\n",
    "exps['tstats'] = [np.where(np.isinf(tstats), np.max(tstats[tstats != np.inf]), tstats)\n",
    "                  for tstats in exps['tstats']]\n",
    "\n",
    "# Replace missing t-values with [p]ositive\n",
    "exps['tstats'] = [np.where(np.isnan(tstats), 'p', tstats) for tstats in exps['tstats']]\n",
    "\n",
    "# Add new test statistics back to the foci\n",
    "exps['foci_sdm'] = [np.c_[foci, tstats]\n",
    "                    for foci, tstats\n",
    "                    in zip(exps['foci_mni'], exps['tstats'])]\n",
    "\n",
    "# Write the foci of each experiment to a text file\n",
    "makedirs('../results/sdm/home/meta', exist_ok=True)\n",
    "_ = exps.apply(lambda x: np.savetxt(\n",
    "    fname='../results/sdm/home/meta/' + x['experiment'] + '.other_mni.txt',\n",
    "    X=x['foci_sdm'], fmt='%s', delimiter=','), axis=1)"
   ]
  },
  {
   "cell_type": "code",
   "execution_count": null,
   "metadata": {},
   "outputs": [],
   "source": [
    "# Convert some columns from str to fload\n",
    "cols_thresh = ['thresh_vox_z', 'thresh_vox_t', 'thresh_vox_p']\n",
    "exps[cols_thresh] = exps[cols_thresh].apply(pd.to_numeric, errors='coerce')\n",
    "\n",
    "# Determine t-value thresholds of experiments\n",
    "exps['t_thr'] = [\n",
    "    # If there is a t-value threshold, we can use it directly\n",
    "    t if not np.isnan(t)\n",
    "    # If there is a z-value threshold, we convert it to a t-value\n",
    "    else (stats.t.ppf(stats.norm.cdf(z), df=n - 1) if not np.isnan(z)\n",
    "          # If there is a p-value threshold, we convert to a t-value\n",
    "          else (abs(stats.t.ppf(p, df=n - 1)) if not np.isnan(p)\n",
    "                # If none of these, use the lowest significant t-value if available\n",
    "                else pd.to_numeric(tstats).min()))\n",
    "    for t, z, p, n, tstats in zip(exps['thresh_vox_t'],\n",
    "                                  exps['thresh_vox_z'],\n",
    "                                  exps['thresh_vox_p'],\n",
    "                                  exps['n'],\n",
    "                                  exps['tstats'])\n",
    "]"
   ]
  },
  {
   "cell_type": "code",
   "execution_count": null,
   "metadata": {},
   "outputs": [],
   "source": [
    "\n",
    "# Copy the table and rename some columns\n",
    "exps_sdm = exps.rename(columns=({'experiment': 'study', 'n': 'n1'}))\n",
    "\n",
    "\n",
    "# Define function to convert string variables to integers (as dummies for categories)\n",
    "def str_via_cat_to_int(series_in, categories):\n",
    "    # Convert strings to category codes (in the provided order), starting at 1\n",
    "    from pandas import Categorical\n",
    "    series_out = Categorical(series_in).set_categories(new_categories=categories).codes + 1\n",
    "    # Add another category code for any leftover categories\n",
    "    series_out[series_out == 0] = series_out.max() + 1\n",
    "    return series_out\n",
    "\n",
    "\n",
    "# Apply this function to convert some columns to integers\n",
    "cols_convert = ['task_type', 'modality_pres', 'modality_resp', 'software']\n",
    "exps_sdm[cols_convert] = pd.DataFrame([\n",
    "    str_via_cat_to_int(series_in=exps[colname], categories=categories)\n",
    "    for colname, categories in zip(cols_convert,\n",
    "                                   [['lexical', 'knowledge', 'objects'],\n",
    "                                    ['visual', 'audiovisual', 'auditory_visual', 'auditory'],\n",
    "                                    ['none', 'manual', 'covert', 'overt'],\n",
    "                                    ['SPM', 'FSL']])]).transpose()\n",
    "\n",
    "# Add new columns for centered mean age and centered mean age squared\n",
    "exps_sdm['age_mean_c'] = exps_sdm['age_mean'].subtract(exps_sdm['age_mean'].mean())\n",
    "exps_sdm['age_mean_c_2'] = exps_sdm['age_mean_c'] ** 2\n",
    "\n",
    "# Write the relevant columns into an SDM table\n",
    "exps_sdm[['study', 'n1',\n",
    "          't_thr',\n",
    "          'threshold',\n",
    "          'age_mean_c',\n",
    "          'age_mean_c_2',\n",
    "          'task_type',\n",
    "          'modality_pres',\n",
    "          'modality_resp',\n",
    "          'software']].to_csv('../results/sdm/home/meta/sdm_table.txt', sep='\\t', index=False)"
   ]
  },
  {
   "cell_type": "code",
   "execution_count": null,
   "metadata": {},
   "outputs": [],
   "source": [
    "# Store path of the SDM binary and the no. of threads, mean imputations, and cFWE permutations\n",
    "fname_sdm = '../../sdm'\n",
    "n_threads = cpu_count() - 1\n",
    "n_imps = 10\n",
    "n_perms = 10\n",
    "\n",
    "# Run preprocessing (specs: template, anisotropy, FWHM, mask, voxel size)\n",
    "run(fname_sdm + ' pp gray_matter,1.0,20,gray_matter,2',\n",
    "    shell=True, cwd='../results/sdm/home/meta/')"
   ]
  },
  {
   "cell_type": "code",
   "execution_count": null,
   "metadata": {},
   "outputs": [],
   "source": [
    "\n",
    "# Run mean analysis without covariates (specs: imputations, threads)\n",
    "run(fname_sdm + ' mean=mi ' + str(n_imps) + ',,,' + str(n_threads),\n",
    "    shell=True, cwd='../results/sdm/home/meta/')\n",
    "\n",
    "# Run mean analysis with covariates (specs: imputations, covariates, threads)\n",
    "run(fname_sdm + ' covs=mi 50, age_mean+task_type+modality_resp+software, , ,' + str(n_threads),\n",
    "    shell=True, cwd='../results/sdm/home/meta/')\n",
    "\n",
    "# Run linear model for the influence of age\n",
    "run(fname_sdm + ' age=mi_lm age_mean_c+age_mean_c_2,0+1+1+0+0,50,,' + str(n_threads),\n",
    "    shell=True, cwd='../results/sdm/home/meta/')"
   ]
  },
  {
   "cell_type": "code",
   "execution_count": null,
   "metadata": {},
   "outputs": [],
   "source": [
    "\n",
    "# Family-wise error (FWE) correction for all models\n",
    "_ = [run(fname_sdm + ' perm ' + mod + ',' + str(n_perms) + ',' + str(n_threads),\n",
    "         shell=True, cwd='../results/sdm/home/meta/')\n",
    "     for mod in ['mean', 'covs', 'age']]"
   ]
  },
  {
   "cell_type": "code",
   "execution_count": null,
   "metadata": {},
   "outputs": [],
   "source": [
    "\n",
    "# Thresholding for all models\n",
    "thresh_voxel_p = 0.001\n",
    "thresh_cluster_k = 50\n",
    "_ = [run(fname_sdm + ' threshold analysis_' + mod + '/corrp_voxel, analysis_' + mod +\n",
    "         '/' + mod + '_z, ' + str(thresh_voxel_p) + ', ' + str(thresh_cluster_k),\n",
    "         shell=True, cwd='../results/sdm/home/meta/')\n",
    "     for mod in ['mean', 'covs', 'age']]"
   ]
  }
 ],
 "metadata": {
  "jupytext": {
   "formats": "ipynb,py:percent"
  },
  "kernelspec": {
   "display_name": "Python 3",
   "language": "python",
   "name": "python3"
  },
  "language_info": {
   "codemirror_mode": {
    "name": "ipython",
    "version": 3
   },
   "file_extension": ".py",
   "mimetype": "text/x-python",
   "name": "python",
   "nbconvert_exporter": "python",
   "pygments_lexer": "ipython3",
   "version": "3.7.9"
  }
 },
 "nbformat": 4,
 "nbformat_minor": 4
}
