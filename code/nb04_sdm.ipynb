{
 "cells": [
  {
   "cell_type": "code",
   "execution_count": 1,
   "metadata": {
    "collapsed": true,
    "execution": {
     "iopub.execute_input": "2021-02-22T20:33:51.929610Z",
     "iopub.status.busy": "2021-02-22T20:33:51.929064Z",
     "iopub.status.idle": "2021-02-22T20:33:52.555392Z",
     "shell.execute_reply": "2021-02-22T20:33:52.554897Z"
    }
   },
   "outputs": [],
   "source": [
    "# Import modules\n",
    "from glob import glob\n",
    "import pandas as pd\n",
    "import numpy as np\n",
    "from scipy import stats\n",
    "from os import makedirs\n",
    "from multiprocessing import cpu_count\n",
    "from subprocess import run"
   ]
  },
  {
   "cell_type": "code",
   "execution_count": 2,
   "metadata": {
    "execution": {
     "iopub.execute_input": "2021-02-22T20:33:52.559890Z",
     "iopub.status.busy": "2021-02-22T20:33:52.559353Z",
     "iopub.status.idle": "2021-02-22T20:33:56.030746Z",
     "shell.execute_reply": "2021-02-22T20:33:56.029486Z"
    }
   },
   "outputs": [],
   "source": [
    "# If necessary, unzip the SDM software\n",
    "if not glob('../software/*/sdm'):\n",
    "    import tarfile\n",
    "    tar_sdm_path = glob('../software/Sdm*.tar.gz')[0]\n",
    "    tar_sdm = tarfile.open(tar_sdm_path)\n",
    "    tar_sdm.extractall('../software')\n",
    "    tar_sdm.close()"
   ]
  },
  {
   "cell_type": "code",
   "execution_count": 3,
   "metadata": {
    "execution": {
     "iopub.execute_input": "2021-02-22T20:33:56.037172Z",
     "iopub.status.busy": "2021-02-22T20:33:56.036000Z",
     "iopub.status.idle": "2021-02-22T20:33:56.042877Z",
     "shell.execute_reply": "2021-02-22T20:33:56.041699Z"
    }
   },
   "outputs": [],
   "source": [
    "# Read table of experiments from ALE analysis\n",
    "exps = pd.read_pickle('../results/exps.pickle')"
   ]
  },
  {
   "cell_type": "code",
   "execution_count": 4,
   "metadata": {
    "execution": {
     "iopub.execute_input": "2021-02-22T20:33:56.053655Z",
     "iopub.status.busy": "2021-02-22T20:33:56.052694Z",
     "iopub.status.idle": "2021-02-22T20:33:56.105116Z",
     "shell.execute_reply": "2021-02-22T20:33:56.105600Z"
    }
   },
   "outputs": [],
   "source": [
    "# Extract test statistics of individal foci\n",
    "exps['tstats'] = [\n",
    "    # If there are t-values, we can use them directly\n",
    "    foci[:, 3] if foci_stat == 'tstat'\n",
    "    # If there are z-values, we convert them to t-values\n",
    "    else (stats.t.ppf(stats.norm.cdf(foci[:, 3]), df=n - 1) if foci_stat == 'zstat'\n",
    "          # If neither of these, write NaNs\n",
    "          else np.full(foci.shape[0], np.nan))\n",
    "    for foci, foci_stat, n\n",
    "    in zip(exps['foci'], exps['foci_stat'], exps['n'])\n",
    "]\n",
    "\n",
    "# Replace infinite t-values with the maximum t-value of the experiment\n",
    "exps['tstats'] = [np.where(np.isinf(tstats), np.max(tstats[tstats != np.inf]), tstats)\n",
    "                  for tstats in exps['tstats']]\n",
    "\n",
    "# Replace missing t-values with [p]ositive\n",
    "exps['tstats'] = [np.where(np.isnan(tstats), 'p', tstats)\n",
    "                  for tstats in exps['tstats']]\n",
    "\n",
    "# Add new test statistics back to the foci\n",
    "exps['foci_sdm'] = [np.c_[foci, tstats]\n",
    "                    for foci, tstats\n",
    "                    in zip(exps['foci_mni'], exps['tstats'])]\n",
    "\n",
    "# Write the foci of each experiment to a text file\n",
    "makedirs('../results/sdm/', exist_ok=True)\n",
    "_ = exps.apply(lambda x: np.savetxt(\n",
    "    fname='../results/sdm/' + x['experiment'] + '.other_mni.txt',\n",
    "    X=x['foci_sdm'], fmt='%s', delimiter=','), axis=1)"
   ]
  },
  {
   "cell_type": "code",
   "execution_count": 5,
   "metadata": {
    "execution": {
     "iopub.execute_input": "2021-02-22T20:33:56.125692Z",
     "iopub.status.busy": "2021-02-22T20:33:56.125168Z",
     "iopub.status.idle": "2021-02-22T20:33:56.128463Z",
     "shell.execute_reply": "2021-02-22T20:33:56.127337Z"
    }
   },
   "outputs": [],
   "source": [
    "# Convert some columns from str to float\n",
    "cols_thresh = ['thresh_vox_z', 'thresh_vox_t', 'thresh_vox_p']\n",
    "exps[cols_thresh] = exps[cols_thresh].apply(pd.to_numeric, errors='coerce')\n",
    "\n",
    "# Determine t-value thresholds of experiments\n",
    "exps['t_thr'] = [\n",
    "    # If there is a t-value threshold, we can use it directly\n",
    "    t if not np.isnan(t)\n",
    "    # If there is a z-value threshold, we convert it to a t-value\n",
    "    else (stats.t.ppf(stats.norm.cdf(z), df=n - 1) if not np.isnan(z)\n",
    "          # If there is a p-value threshold, we convert to a t-value\n",
    "          else (abs(stats.t.ppf(p, df=n - 1)) if not np.isnan(p)\n",
    "                # If none of these, use the lowest significant t-value if available\n",
    "                else pd.to_numeric(tstats).min()))\n",
    "    for t, z, p, n, tstats in zip(exps['thresh_vox_t'],\n",
    "                                  exps['thresh_vox_z'],\n",
    "                                  exps['thresh_vox_p'],\n",
    "                                  exps['n'],\n",
    "                                  exps['tstats'])\n",
    "]"
   ]
  },
  {
   "cell_type": "code",
   "execution_count": 6,
   "metadata": {
    "execution": {
     "iopub.execute_input": "2021-02-22T20:33:56.142117Z",
     "iopub.status.busy": "2021-02-22T20:33:56.140996Z",
     "iopub.status.idle": "2021-02-22T20:33:56.156830Z",
     "shell.execute_reply": "2021-02-22T20:33:56.156311Z"
    }
   },
   "outputs": [],
   "source": [
    "# Copy the table and rename some columns\n",
    "exps_sdm = exps.rename(columns=({'experiment': 'study', 'n': 'n1'}))\n",
    "\n",
    "\n",
    "# Define function to convert string variables to integers (as dummies for categories)\n",
    "def str_via_cat_to_int(series_in, categories):\n",
    "    # Convert strings to category codes (in the provided order), starting at 1\n",
    "    from pandas import Categorical\n",
    "    series_out = Categorical(series_in).set_categories(\n",
    "        new_categories=categories).codes + 1\n",
    "    # Add another category code for any leftover categories\n",
    "    series_out[series_out == 0] = series_out.max() + 1\n",
    "    return series_out\n",
    "\n",
    "\n",
    "# Apply this function to convert some columns to integers\n",
    "cols_convert = ['task_type', 'modality_pres', 'modality_resp', 'software']\n",
    "exps_sdm[cols_convert] = pd.DataFrame([\n",
    "    str_via_cat_to_int(series_in=exps[colname], categories=categories)\n",
    "    for colname, categories in zip(cols_convert,\n",
    "                                   [['lexical', 'knowledge', 'objects'],\n",
    "                                    ['visual', 'audiovisual',\n",
    "                                        'auditory_visual', 'auditory'],\n",
    "                                    ['none', 'manual', 'covert', 'overt'],\n",
    "                                    ['SPM', 'FSL']])]).transpose()\n",
    "\n",
    "# Add new columns for centered mean age and centered mean age squared\n",
    "exps_sdm['age_mean_c'] = exps_sdm['age_mean'].subtract(exps_sdm['age_mean'].mean())\n",
    "exps_sdm['age_mean_c_2'] = exps_sdm['age_mean_c'] ** 2\n",
    "\n",
    "# Write the relevant columns into an SDM table\n",
    "exps_sdm[['study',\n",
    "          'n1',\n",
    "          't_thr',\n",
    "          'threshold',\n",
    "          'age_mean_c',\n",
    "          'age_mean_c_2',\n",
    "          'task_type',\n",
    "          'modality_pres',\n",
    "          'modality_resp',\n",
    "          'software']].to_csv('../results/sdm/sdm_table.txt', sep='\\t', index=False)"
   ]
  },
  {
   "cell_type": "code",
   "execution_count": 7,
   "metadata": {
    "execution": {
     "iopub.execute_input": "2021-02-22T20:33:56.168491Z",
     "iopub.status.busy": "2021-02-22T20:33:56.167410Z",
     "iopub.status.idle": "2021-02-22T20:48:32.926513Z",
     "shell.execute_reply": "2021-02-22T20:48:32.927732Z"
    }
   },
   "outputs": [
    {
     "data": {
      "text/plain": [
       "CompletedProcess(args='../../sdm pp gray_matter,1.0,20,gray_matter,2', returncode=0)"
      ]
     },
     "execution_count": 1,
     "metadata": {},
     "output_type": "execute_result"
    }
   ],
   "source": [
    "# Store path of the SDM binary\n",
    "fname_sdm = \"../\" + glob('../software/*/sdm')[0]\n",
    "\n",
    "# Specify no. of threads to use, no. of mean imputations, and no of. cFWE permutations\n",
    "n_threads = cpu_count() - 1\n",
    "n_imps = 50\n",
    "n_perms = 1000\n",
    "\n",
    "# Run preprocessing (specs: template, anisotropy, FWHM, mask, voxel size)\n",
    "run(fname_sdm + ' pp gray_matter,1.0,20,gray_matter,2',\n",
    "    shell=True, cwd='../results/sdm/')"
   ]
  },
  {
   "cell_type": "code",
   "execution_count": 8,
   "metadata": {
    "execution": {
     "iopub.execute_input": "2021-02-22T20:48:32.937524Z",
     "iopub.status.busy": "2021-02-22T20:48:32.936654Z",
     "iopub.status.idle": "2021-02-23T01:38:09.786338Z",
     "shell.execute_reply": "2021-02-23T01:38:09.787639Z"
    }
   },
   "outputs": [
    {
     "data": {
      "text/plain": [
       "CompletedProcess(args='../../sdm age=mi_lm age_mean_c+age_mean_c_2,0+1+1+0+0,50,,79', returncode=0)"
      ]
     },
     "execution_count": 1,
     "metadata": {},
     "output_type": "execute_result"
    }
   ],
   "source": [
    "# Run mean analysis without covariates (specs: imputations, threads)\n",
    "run(fname_sdm + ' mean=mi ' + str(n_imps) + ',,,' + str(n_threads),\n",
    "    shell=True, cwd='../results/sdm/')\n",
    "\n",
    "# Run mean analysis with covariates (specs: imputations, covariates, threads)\n",
    "run(fname_sdm + ' covs=mi 50,age_mean_c+modality_pres+modality_resp+software,,,' + str(n_threads),\n",
    "    shell=True, cwd='../results/sdm/')\n",
    "\n",
    "# Run linear model for the influence of age (specs: variables, hypotheses, imputations, threads)\n",
    "run(fname_sdm + ' age=mi_lm age_mean_c+age_mean_c_2,0+1+1+0+0,50,,' + str(n_threads),\n",
    "    shell=True, cwd='../results/sdm/')"
   ]
  },
  {
   "cell_type": "code",
   "execution_count": 9,
   "metadata": {
    "execution": {
     "iopub.execute_input": "2021-02-23T01:38:09.803017Z",
     "iopub.status.busy": "2021-02-23T01:38:09.801792Z",
     "iopub.status.idle": "2021-02-23T08:57:42.868559Z",
     "shell.execute_reply": "2021-02-23T08:57:42.869503Z"
    }
   },
   "outputs": [],
   "source": [
    "# Family-wise error (FWE) correction for all models\n",
    "_ = [run(fname_sdm + ' perm ' + mod + ',' + str(n_perms) + ',' + str(n_threads),\n",
    "         shell=True, cwd='../results/sdm/')\n",
    "     for mod in ['mean', 'covs', 'age']]"
   ]
  },
  {
   "cell_type": "code",
   "execution_count": 10,
   "metadata": {
    "execution": {
     "iopub.execute_input": "2021-02-23T08:57:42.888310Z",
     "iopub.status.busy": "2021-02-23T08:57:42.887378Z",
     "iopub.status.idle": "2021-02-23T08:57:44.422743Z",
     "shell.execute_reply": "2021-02-23T08:57:44.423860Z"
    }
   },
   "outputs": [],
   "source": [
    "# Thresholding for all models\n",
    "thresh_voxel_p = 0.001\n",
    "thresh_cluster_k = 50\n",
    "_ = [run(fname_sdm + ' threshold analysis_' + mod + '/corrp_voxel, analysis_' + mod +\n",
    "         '/' + mod + '_z, ' + str(thresh_voxel_p) +\n",
    "         ', ' + str(thresh_cluster_k),\n",
    "         shell=True, cwd='../results/sdm/')\n",
    "     for mod in ['mean', 'covs', 'age']]"
   ]
  },
  {
   "cell_type": "code",
   "execution_count": null,
   "metadata": {},
   "outputs": [],
   "source": [
    "# Glass brain example\n",
    "img = image.load_img('../results/sdm/analysis_mean/mean_z_voxelCorrected_p_0.00100_50_neg.nii.gz')\n",
    "p = plotting.plot_glass_brain(img, display_mode='lyrz', colorbar=True)\n",
    "\n",
    "# Cluster table example\n",
    "t = reporting.get_clusters_table(img, stat_threshold=0, min_distance=1000)\n",
    "t.style.format({'X': '{:.0f}', 'Y': '{:.0f}', 'Z': '{:.0f}', 'Peak Stat': '{:.2f}'}).hide_index()"
   ]
  }
 ],
 "metadata": {
  "jupytext": {
   "formats": "ipynb,py:percent"
  },
  "kernelspec": {
   "display_name": "Python 3",
   "language": "python",
   "name": "python3"
  },
  "language_info": {
   "codemirror_mode": {
    "name": "ipython",
    "version": 3
   },
   "file_extension": ".py",
   "mimetype": "text/x-python",
   "name": "python",
   "nbconvert_exporter": "python",
   "pygments_lexer": "ipython3",
   "version": "3.6.12"
  }
 },
 "nbformat": 4,
 "nbformat_minor": 4
}
