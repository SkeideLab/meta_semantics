{
 "cells": [
  {
   "cell_type": "markdown",
   "metadata": {
    "pycharm": {
     "name": "#%% md\n"
    }
   },
   "source": [
    "# Notebook #03: Comparison to Adult Meta-Analysis"
   ]
  },
  {
   "cell_type": "code",
   "execution_count": null,
   "metadata": {},
   "outputs": [],
   "source": [
    "# Import modules\n",
    "from os import makedirs\n",
    "from shutil import copy\n",
    "from nimare import io\n",
    "from nb01_ale import run_ale\n",
    "from nb02_subtraction import run_subtraction\n",
    "from nilearn import image, plotting, reporting"
   ]
  },
  {
   "cell_type": "code",
   "execution_count": null,
   "metadata": {
    "collapsed": true
   },
   "outputs": [],
   "source": [
    "\n",
    "# Copy Sleuth text files to the results folder\n",
    "makedirs('../results/adults', exist_ok=True)\n",
    "copy('../results/ale/all.txt', '../results/adults/children.txt')\n",
    "copy('../data/adults/adults.txt', '../results/adults/adults.txt')\n",
    "\n",
    "# Read Sleuth text files for children and adults\n",
    "dset1 = io.convert_sleuth_to_dataset('../results/adults/children.txt')\n",
    "dset2 = io.convert_sleuth_to_dataset('../results/adults/adults.txt')"
   ]
  },
  {
   "cell_type": "code",
   "execution_count": null,
   "metadata": {},
   "outputs": [],
   "source": [
    "# Perform the ALE analysis for adults\n",
    "run_ale(text_file='../results/adults/adults.txt', voxel_thresh=0.001, cluster_thresh=0.01,\n",
    "        n_iters=1000, output_dir='../results/adults')"
   ]
  },
  {
   "cell_type": "code",
   "execution_count": null,
   "metadata": {},
   "outputs": [],
   "source": [
    "# Perform subtraction analysis for children vs. adults\n",
    "run_subtraction(text_file1='../results/adults/children.txt',\n",
    "                text_file2='../results/adults/adults.txt',\n",
    "                voxel_thresh=0.01, cluster_size=200, n_iters=10000,\n",
    "                output_dir='../results/adults')"
   ]
  },
  {
   "cell_type": "code",
   "execution_count": null,
   "metadata": {},
   "outputs": [],
   "source": [
    "\n",
    "# Output for adults only\n",
    "img = image.load_img('../results/adults/adults_z_thresholded.nii.gz')\n",
    "p = plotting.plot_glass_brain(img, display_mode='lyrz', colorbar=True)\n",
    "t = reporting.get_clusters_table(img, stat_threshold=0, min_distance=1000)\n",
    "t.style.format({'X': '{:.0f}', 'Y': '{:.0f}', 'Z': '{:.0f}', 'Peak Stat': '{:.2f}'}).hide_index()"
   ]
  },
  {
   "cell_type": "code",
   "execution_count": null,
   "metadata": {},
   "outputs": [],
   "source": [
    "\n",
    "# Output for children vs. adults\n",
    "img = image.load_img('../results/adults/children_minus_adults_z_tresholded.nii.gz')\n",
    "p = plotting.plot_glass_brain(img, display_mode='lyrz', colorbar=True, symmetric_cbar=True)\n",
    "t = reporting.get_clusters_table(img, stat_threshold=0, min_distance=1000)\n",
    "t.style.format({'X': '{:.0f}', 'Y': '{:.0f}', 'Z': '{:.0f}', 'Peak Stat': '{:.2f}'}).hide_index()"
   ]
  }
 ],
 "metadata": {
  "jupytext": {
   "formats": "ipynb,py:percent"
  },
  "kernelspec": {
   "display_name": "Python 3",
   "language": "python",
   "name": "python3"
  },
  "language_info": {
   "codemirror_mode": {
    "name": "ipython",
    "version": 3
   },
   "file_extension": ".py",
   "mimetype": "text/x-python",
   "name": "python",
   "nbconvert_exporter": "python",
   "pygments_lexer": "ipython3",
   "version": "3.7.9"
  }
 },
 "nbformat": 4,
 "nbformat_minor": 4
}
