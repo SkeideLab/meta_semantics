{
 "cells": [
  {
   "cell_type": "markdown",
   "source": [
    "# Notebook #01: ALE analysis"
   ],
   "metadata": {
    "collapsed": false,
    "pycharm": {
     "name": "#%% md\n"
    }
   }
  },
  {
   "cell_type": "code",
   "execution_count": 1,
   "outputs": [],
   "source": [
    "# Import modules\n",
    "import pandas as pd\n",
    "import numpy as np\n",
    "from nimare.transforms import tal2mni\n",
    "\n",
    "# Read table of included experiments\n",
    "exps = pd.read_csv(\"../data/literature_search/included.csv\", na_filter=False)\n",
    "exps[\"fname\"] = \"../data/foci/\" + exps[\"experiment\"] + \".csv\"\n",
    "\n",
    "# Read peak coordinates for these experiments\n",
    "exps[\"foci\"] = exps[\"fname\"].apply(lambda x: np.genfromtxt(x, delimiter=\",\", skip_header=1, usecols=(range(0, 3))))\n",
    "#exps[\"foci\"] = exps.foci.apply(lambda x: x if np.ndim(x) == 2 else np.expand_dims(x, axis=0))\n",
    "\n",
    "# Convert from Talairach to MNI space if necessary\n",
    "exps[\"foci\"] = exps.apply(lambda x: x[\"foci\"] if x[\"foci_space\"] == \"MNI\" else tal2mni(x[\"foci\"]), axis=1)"
   ],
   "metadata": {
    "collapsed": false,
    "pycharm": {
     "name": "#%%\n"
    }
   }
  },
  {
   "cell_type": "code",
   "execution_count": 2,
   "outputs": [
    {
     "data": {
      "text/plain": "[None,\n None,\n None,\n None,\n None,\n None,\n None,\n None,\n None,\n None,\n None,\n None,\n None,\n None,\n None,\n None,\n None,\n None,\n None,\n None,\n None,\n None,\n None,\n None,\n None,\n None,\n None,\n None,\n None,\n None,\n None,\n None,\n None,\n None,\n None,\n None,\n None,\n None,\n None,\n None,\n None,\n None,\n None,\n None,\n None,\n None,\n None,\n None,\n None,\n None]"
     },
     "execution_count": 2,
     "metadata": {},
     "output_type": "execute_result"
    }
   ],
   "source": [
    "# Define function to write experiments to a Sleuth text file\n",
    "def write_foci(file, exp_id, subjects, foci):\n",
    "    f = open(file = file, mode = 'a+')\n",
    "    f.write('// ' + exp_id + '\\n')\n",
    "    f.write('// Subjects=' + str(subjects) + '\\n'),\n",
    "    np.savetxt(f, foci, fmt='%1.3f', delimiter='\\t')\n",
    "    f.write('\\n')\n",
    "    f.close()\n",
    "\n",
    "# Actually write the Sleuth text file\n",
    "f_ale = open('../results/ale/foci/all.txt', mode='w+')\n",
    "f_ale.write('// Reference=MNI\\n')\n",
    "f_ale.close()\n",
    "[write_foci(file=f_ale.name, exp_id=exp_id, subjects=subjects, foci=foci) for exp_id, subjects, foci in zip(exps['experiment'], exps['n'], exps['foci'])]"
   ],
   "metadata": {
    "collapsed": false,
    "pycharm": {
     "name": "#%%\n"
    }
   }
  },
  {
   "cell_type": "code",
   "execution_count": 2,
   "outputs": [],
   "source": [],
   "metadata": {
    "collapsed": false,
    "pycharm": {
     "name": "#%%\n"
    }
   }
  }
 ],
 "metadata": {
  "kernelspec": {
   "name": "pycharm-2e5bb5f0",
   "language": "python",
   "display_name": "PyCharm (mask_children)"
  },
  "language_info": {
   "codemirror_mode": {
    "name": "ipython",
    "version": 2
   },
   "file_extension": ".py",
   "mimetype": "text/x-python",
   "name": "python",
   "nbconvert_exporter": "python",
   "pygments_lexer": "ipython2",
   "version": "2.7.6"
  }
 },
 "nbformat": 4,
 "nbformat_minor": 0
}