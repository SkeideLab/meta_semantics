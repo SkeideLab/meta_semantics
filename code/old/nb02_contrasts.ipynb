{
 "cells": [
  {
   "cell_type": "markdown",
   "metadata": {
    "collapsed": true,
    "pycharm": {
     "name": "#%% md\n"
    }
   },
   "source": [
    "# Notebook #02: ALE contrast analyses"
   ]
  },
  {
   "cell_type": "code",
   "execution_count": 1,
   "outputs": [
    {
     "name": "stdout",
     "output_type": "stream",
     "text": [
      "Performing ALE contrast analysis for \"../results/ale/knowledge_p001_C01_10_ALE.nii\" and \"../results/ale/nknowledge_p001_C01_10_ALE.nii\" with 10 permutations\n",
      "Performing ALE contrast analysis for \"../results/ale/lexical_p001_C01_10_ALE.nii\" and \"../results/ale/nlexical_p001_C01_10_ALE.nii\" with 10 permutations\n",
      "Performing ALE contrast analysis for \"../results/ale/objects_p001_C01_10_ALE.nii\" and \"../results/ale/nobjects_p001_C01_10_ALE.nii\" with 10 permutations\n",
      "Performing ALE contrast analysis for \"../results/ale/older_p001_C01_10_ALE.nii\" and \"../results/ale/younger_p001_C01_10_ALE.nii\" with 10 permutations\n"
     ]
    }
   ],
   "source": [
    "# Define function to perform a contrast analyses between to ALEs\n",
    "def run_contrasts(ale_1, ale_2, ale_pooled, gingerale, outdir, p_voxel, perm):\n",
    "    print('Performing ALE contrast analysis for \"' + ale_1 + '\" and \"' + ale_2 + \\\n",
    "          '\" with ' + str(perm) + ' permutations')\n",
    "    # Run the ALE contrast analysis from the command line\n",
    "    import os\n",
    "    os.makedirs(outdir, exist_ok=True)\n",
    "    prefix1 = os.path.basename(ale_1).split(\"_p\")[0]\n",
    "    prefix2 = os.path.basename(ale_2).split(\"_p\")[0]\n",
    "    cmd_contrast = 'java -cp ' + gingerale + ' org.brainmap.meta.getALE2Contrast ' + ale_1 + \\\n",
    "                   ' ' + ale_2 + ' ' + ale_pooled + ' -mask=MNI152_wb.nii -p=' + str(p_voxel) + \\\n",
    "                   ' -perm=' + str(perm) + ' -nonadd -out1=' + prefix1  + ' -out2=' + prefix2\n",
    "    os.system(cmd_contrast)\n",
    "    # Move maps from the working directory to the correct output folder\n",
    "    from glob import glob\n",
    "    for fname in glob('*.nii.gz'):\n",
    "        fname_new = outdir + '/' + fname\n",
    "        os.rename(fname, fname_new)\n",
    "\n",
    "\n",
    "# Define dictionary for which contrast analyses to run\n",
    "contrasts = dict({\n",
    "    '../results/ale/knowledge_p001_C01_10_ALE.nii': '../results/ale/nknowledge_p001_C01_10_ALE.nii',\n",
    "    '../results/ale/lexical_p001_C01_10_ALE.nii': '../results/ale/nlexical_p001_C01_10_ALE.nii',\n",
    "    '../results/ale/objects_p001_C01_10_ALE.nii': '../results/ale/nobjects_p001_C01_10_ALE.nii',\n",
    "    '../results/ale/older_p001_C01_10_ALE.nii': '../results/ale/younger_p001_C01_10_ALE.nii'\n",
    "})\n",
    "\n",
    "# Use the function to perform the contrast analyses\n",
    "for key, value in zip(contrasts.keys(), contrasts.values()):\n",
    "    run_contrasts(ale_1=key, ale_2=value, ale_pooled='../results/ale/all_p001_C01_10_ALE.nii',\n",
    "                  gingerale='../software/ale/GingerALE.jar', outdir='../results/contrasts',\n",
    "                  p_voxel=0.01, perm=10)"
   ],
   "metadata": {
    "collapsed": false,
    "pycharm": {
     "name": "#%%\n"
    }
   }
  },
  {
   "cell_type": "code",
   "execution_count": 21,
   "outputs": [
    {
     "name": "stdout",
     "output_type": "stream",
     "text": [
      "Reading cluster stats for ../results/contrasts/nlexical_gt_lexical_Z_10_p01.nii.gz\n",
      "java -cp ../software/ale/GingerALE.jar org.brainmap.meta.getClustersStats ../results/ale/all.txt ../results/contrasts/nlexical_gt_lexical_Z_10_p01.nii.gz ../results/contrasts/nlexical_gt_lexical_Z_10_p01_Clust.nii.gz -mni -out=lala\n",
      "0\n",
      "Reading cluster stats for ../results/contrasts/younger_gt_older_Z_10_p01.nii.gz\n",
      "java -cp ../software/ale/GingerALE.jar org.brainmap.meta.getClustersStats ../results/ale/all.txt ../results/contrasts/younger_gt_older_Z_10_p01.nii.gz ../results/contrasts/younger_gt_older_Z_10_p01_Clust.nii.gz -mni -out=lala\n",
      "0\n",
      "Reading cluster stats for ../results/contrasts/lexical_gt_nlexical_Z_10_p01.nii.gz\n",
      "java -cp ../software/ale/GingerALE.jar org.brainmap.meta.getClustersStats ../results/ale/all.txt ../results/contrasts/lexical_gt_nlexical_Z_10_p01.nii.gz ../results/contrasts/lexical_gt_nlexical_Z_10_p01_Clust.nii.gz -mni -out=lala\n",
      "0\n",
      "Reading cluster stats for ../results/contrasts/older_gt_younger_Z_10_p01.nii.gz\n",
      "java -cp ../software/ale/GingerALE.jar org.brainmap.meta.getClustersStats ../results/ale/all.txt ../results/contrasts/older_gt_younger_Z_10_p01.nii.gz ../results/contrasts/older_gt_younger_Z_10_p01_Clust.nii.gz -mni -out=lala\n",
      "0\n",
      "Reading cluster stats for ../results/contrasts/knowledge_gt_nknowledge_Z_10_p01.nii.gz\n",
      "java -cp ../software/ale/GingerALE.jar org.brainmap.meta.getClustersStats ../results/ale/all.txt ../results/contrasts/knowledge_gt_nknowledge_Z_10_p01.nii.gz ../results/contrasts/knowledge_gt_nknowledge_Z_10_p01_Clust.nii.gz -mni -out=lala\n",
      "0\n",
      "Reading cluster stats for ../results/contrasts/nknowledge_gt_knowledge_Z_10_p01.nii.gz\n",
      "java -cp ../software/ale/GingerALE.jar org.brainmap.meta.getClustersStats ../results/ale/all.txt ../results/contrasts/nknowledge_gt_knowledge_Z_10_p01.nii.gz ../results/contrasts/nknowledge_gt_knowledge_Z_10_p01_Clust.nii.gz -mni -out=lala\n",
      "0\n",
      "Reading cluster stats for ../results/contrasts/nobjects_gt_objects_Z_10_p01.nii.gz\n",
      "java -cp ../software/ale/GingerALE.jar org.brainmap.meta.getClustersStats ../results/ale/all.txt ../results/contrasts/nobjects_gt_objects_Z_10_p01.nii.gz ../results/contrasts/nobjects_gt_objects_Z_10_p01_Clust.nii.gz -mni -out=lala\n",
      "0\n",
      "Reading cluster stats for ../results/contrasts/objects_gt_nobjects_Z_10_p01.nii.gz\n",
      "java -cp ../software/ale/GingerALE.jar org.brainmap.meta.getClustersStats ../results/ale/all.txt ../results/contrasts/objects_gt_nobjects_Z_10_p01.nii.gz ../results/contrasts/objects_gt_nobjects_Z_10_p01_Clust.nii.gz -mni -out=lala\n",
      "0\n"
     ]
    }
   ],
   "source": [
    "# Define function to retrieve cluster stats\n",
    "def read_clusters(fname, foci, gingerale, min_cluster):\n",
    "    from os import system\n",
    "    print('Reading cluster stats for ' + fname)\n",
    "    fname_clust = fname.replace('.nii', '_Clust.nii')\n",
    "    cmd_clusters = 'java -cp ' + gingerale + ' org.brainmap.meta.getClustersOnly ' + fname + \\\n",
    "        ' -min=' + str(min_cluster) + ' -out=' + fname_clust\n",
    "    system(cmd_clusters)\n",
    "    cmd_stats = 'java -cp ' + gingerale + ' org.brainmap.meta.getClustersStats ' + foci + ' ' + \\\n",
    "                fname + ' ' + fname_clust + ' -mni -out=' + fname_stats\n",
    "    print(cmd_stats)\n",
    "    print(system(cmd_stats))\n",
    "\n",
    "\n",
    "from glob import glob\n",
    "for fname in glob('../results/contrasts/*_Z_*_p*.*'):\n",
    "    read_clusters(fname, foci='../results/ale/all.txt', gingerale='../software/ale/GingerALE.jar', min_cluster=200)\n"
   ],
   "metadata": {
    "collapsed": false,
    "pycharm": {
     "name": "#%%\n"
    }
   }
  }
 ],
 "metadata": {
  "kernelspec": {
   "name": "pycharm-2e5bb5f0",
   "language": "python",
   "display_name": "PyCharm (mask_children)"
  },
  "language_info": {
   "codemirror_mode": {
    "name": "ipython",
    "version": 2
   },
   "file_extension": ".py",
   "mimetype": "text/x-python",
   "name": "python",
   "nbconvert_exporter": "python",
   "pygments_lexer": "ipython2",
   "version": "2.7.6"
  }
 },
 "nbformat": 4,
 "nbformat_minor": 0
}